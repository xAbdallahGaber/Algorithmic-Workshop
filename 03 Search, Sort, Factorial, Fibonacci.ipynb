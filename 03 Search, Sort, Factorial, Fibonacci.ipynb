{
 "cells": [
  {
   "cell_type": "markdown",
   "metadata": {},
   "source": [
    "# Factorial Iterative\n"
   ]
  },
  {
   "cell_type": "code",
   "execution_count": 36,
   "metadata": {},
   "outputs": [
    {
     "name": "stdout",
     "output_type": "stream",
     "text": [
      "0 1\n",
      "1 1\n",
      "2 2\n",
      "3 6\n",
      "4 24\n",
      "5 120\n",
      "6 720\n",
      "7 5040\n",
      "8 40320\n",
      "9 362880\n"
     ]
    }
   ],
   "source": [
    "def fact(n):\n",
    "    mul = 1\n",
    "    for i in range(1,n+1):\n",
    "        mul*=i\n",
    "    return mul\n",
    "\n",
    "for i in range(10):\n",
    "    print(i,fact(i))\n",
    "    "
   ]
  },
  {
   "cell_type": "markdown",
   "metadata": {},
   "source": [
    "# Recursive Factorial\n"
   ]
  },
  {
   "cell_type": "code",
   "execution_count": 30,
   "metadata": {},
   "outputs": [
    {
     "name": "stdout",
     "output_type": "stream",
     "text": [
      "0 1\n",
      "1 1\n",
      "2 2\n",
      "3 6\n",
      "4 24\n",
      "5 120\n",
      "6 720\n",
      "7 5040\n",
      "8 40320\n",
      "9 362880\n"
     ]
    }
   ],
   "source": [
    "def fact(n):\n",
    "    if n <=1 :\n",
    "        return 1\n",
    "    else:\n",
    "        return n*fact(n-1)\n",
    "\n",
    "for i in range(10):\n",
    "    print(i,fact(i))"
   ]
  },
  {
   "cell_type": "markdown",
   "metadata": {},
   "source": [
    "# Fibonacci Iterative\n"
   ]
  },
  {
   "cell_type": "code",
   "execution_count": 31,
   "metadata": {},
   "outputs": [
    {
     "name": "stdout",
     "output_type": "stream",
     "text": [
      "0 0\n",
      "1 1\n",
      "2 1\n",
      "3 2\n",
      "4 3\n",
      "5 5\n",
      "6 8\n",
      "7 13\n",
      "8 21\n",
      "9 34\n"
     ]
    }
   ],
   "source": [
    "def fib(a):\n",
    "    temp1 = 0\n",
    "    temp2 = 1\n",
    "    sum = 0\n",
    "    for i in range(a+1):\n",
    "        sum += temp1\n",
    "        temp1 = temp2\n",
    "        temp2 = sum\n",
    "    return sum\n",
    "\n",
    "for i in range(10):\n",
    "    print(i, fib(i))"
   ]
  },
  {
   "cell_type": "markdown",
   "metadata": {},
   "source": [
    "# Fibonacci Recursion"
   ]
  },
  {
   "cell_type": "code",
   "execution_count": 32,
   "metadata": {},
   "outputs": [
    {
     "name": "stdout",
     "output_type": "stream",
     "text": [
      "0 0\n",
      "1 1\n",
      "2 1\n",
      "3 2\n",
      "4 3\n",
      "5 5\n",
      "6 8\n",
      "7 13\n",
      "8 21\n",
      "9 34\n"
     ]
    }
   ],
   "source": [
    "def fib(a):\n",
    "    if a == 1:\n",
    "        return 1\n",
    "    if a < 1:\n",
    "        return 0\n",
    "    return fib(a-1)+fib(a-2)\n",
    "\n",
    "for i in range(10):\n",
    "    print(i,fib(i))"
   ]
  },
  {
   "cell_type": "markdown",
   "metadata": {},
   "source": [
    "# Iterative Linear Search"
   ]
  },
  {
   "cell_type": "code",
   "execution_count": 45,
   "metadata": {},
   "outputs": [
    {
     "name": "stdout",
     "output_type": "stream",
     "text": [
      "2\n",
      "3\n",
      "-1\n"
     ]
    }
   ],
   "source": [
    "def search(x,mylist):\n",
    "    for i in range(len(mylist)):\n",
    "        if mylist[i] == x:\n",
    "            return i\n",
    "    return -1\n",
    "        \n",
    "print(search('c',['a','b','c','d']))\n",
    "print(search('d',['a','b','c','d']))\n",
    "print(search('z',['a','b','c','d']))"
   ]
  },
  {
   "cell_type": "markdown",
   "metadata": {},
   "source": [
    "# Recursion linear search"
   ]
  },
  {
   "cell_type": "code",
   "execution_count": 49,
   "metadata": {},
   "outputs": [
    {
     "name": "stdout",
     "output_type": "stream",
     "text": [
      "2\n",
      "3\n",
      "-1\n"
     ]
    }
   ],
   "source": [
    "def search(x,mylist,i=0):\n",
    "    if (mylist[i] == x):\n",
    "        return i\n",
    "    elif (i+1) == len(mylist):\n",
    "        return -1\n",
    "    else:\n",
    "        return search(x,mylist,i+1)\n",
    "    \n",
    "print(search('c',['a','b','c','d']))\n",
    "print(search('d',['a','b','c','d']))\n",
    "print(search('z',['a','b','c','d']))"
   ]
  },
  {
   "cell_type": "markdown",
   "metadata": {},
   "source": [
    "# Binary Search Iterative"
   ]
  },
  {
   "cell_type": "code",
   "execution_count": 81,
   "metadata": {},
   "outputs": [
    {
     "name": "stdout",
     "output_type": "stream",
     "text": [
      "3\n"
     ]
    }
   ],
   "source": [
    "#Binary Search\n",
    "def search(myList,x):\n",
    "    halfIndex = len(A)//2\n",
    "    start = 0\n",
    "    end = len(A)-1\n",
    "    while True:\n",
    "        if myList[halfIndex] == x:\n",
    "            return halfIndex\n",
    "        elif(end-start)<1:\n",
    "            return -1\n",
    "        elif myList[halfIndex] > x: #Take left\n",
    "            end = halfIndex-1\n",
    "            halfIndex = start+(end-start)//2\n",
    "        elif myList[halfIndex] < x: #Take Right\n",
    "            start = halfIndex+1\n",
    "            halfIndex = start+(end-start)//2\n",
    "    return halfIndex   \n",
    "\n",
    "A = [1,5,8,12,13]\n",
    "searchElement = 12\n",
    "print(search(A,searchElement))"
   ]
  },
  {
   "cell_type": "markdown",
   "metadata": {},
   "source": [
    "# Binary Search Recursive"
   ]
  },
  {
   "cell_type": "code",
   "execution_count": 83,
   "metadata": {},
   "outputs": [
    {
     "name": "stdout",
     "output_type": "stream",
     "text": [
      "3\n"
     ]
    }
   ],
   "source": [
    "#Binary Search\n",
    "def search(myList,x,start,end):\n",
    "    halfIndex = int(start+(end-start)/2)\n",
    "    if myList[halfIndex] == x:\n",
    "        return halfIndex\n",
    "    elif(end-start)<1:\n",
    "        return -1\n",
    "    elif myList[halfIndex] > x: #Take left\n",
    "        return search(myList,x,start,halfIndex-1)\n",
    "    elif myList[halfIndex] < x: #Take Right\n",
    "        return search(myList,x,halfIndex+1,end)\n",
    "        \n",
    "\n",
    "A = [1,5,8,12,13]\n",
    "searchElement = 12\n",
    "print(search(A,searchElement,0,len(A)-1))"
   ]
  },
  {
   "cell_type": "markdown",
   "metadata": {},
   "source": [
    "# Insertion sort"
   ]
  },
  {
   "cell_type": "code",
   "execution_count": 141,
   "metadata": {},
   "outputs": [
    {
     "name": "stdout",
     "output_type": "stream",
     "text": [
      "[-1, 1, 2, 3, 4, 5, 6, 7, 8, 9]\n"
     ]
    }
   ],
   "source": [
    "def InsertionSort(myList):\n",
    "    for i in range(len(myList)):\n",
    "        for r in reversed(range(0,i)):\n",
    "            if (myList[r]>myList[r+1]):\n",
    "                myList[r],myList[r+1] = myList[r+1],myList[r]\n",
    "    return myList\n",
    "\n",
    "x = [8,5,1,3,7,-1,9,2,6,4] \n",
    "print(InsertionSort(x))"
   ]
  },
  {
   "cell_type": "markdown",
   "metadata": {},
   "source": [
    "# Bubble sort"
   ]
  },
  {
   "cell_type": "code",
   "execution_count": 115,
   "metadata": {},
   "outputs": [
    {
     "name": "stdout",
     "output_type": "stream",
     "text": [
      "[-1, 1, 2, 3, 4, 5, 6, 7, 8, 9]\n"
     ]
    }
   ],
   "source": [
    "def BubbleSort(myList):\n",
    "    for i in range(1,len(myList)):\n",
    "        for r in range(len(myList)-i):\n",
    "            if (myList[r]>myList[r+1]):\n",
    "                myList[r],myList[r+1] = myList[r+1],myList[r]\n",
    "    return myList\n",
    "\n",
    "x = [8,5,1,3,7,-1,9,2,6,4] \n",
    "print(BubbleSort(x))"
   ]
  },
  {
   "cell_type": "code",
   "execution_count": 140,
   "metadata": {},
   "outputs": [
    {
     "name": "stdout",
     "output_type": "stream",
     "text": [
      "[1, 2, 4, 5, 8, 9]\n"
     ]
    }
   ],
   "source": [
    "def BubbleSortEnhanced(myList):\n",
    "    for i in range(1,len(myList)):\n",
    "        flag = True\n",
    "        for r in range(len(myList)-i):\n",
    "            if (myList[r]>myList[r+1]):\n",
    "                flag = False\n",
    "                myList[r],myList[r+1] = myList[r+1],myList[r]\n",
    "        if flag:\n",
    "            return myList\n",
    "    return myList\n",
    "\n",
    "x = [5,1,4,2,8,9] \n",
    "print(BubbleSortEnhanced(x))"
   ]
  },
  {
   "cell_type": "markdown",
   "metadata": {},
   "source": []
  },
  {
   "cell_type": "code",
   "execution_count": 93,
   "metadata": {},
   "outputs": [
    {
     "name": "stdout",
     "output_type": "stream",
     "text": [
      "5\n"
     ]
    }
   ],
   "source": [
    "#GCD\n",
    "#a>b \n",
    "def GCD(a,b):\n",
    "    if a < b:\n",
    "        a,b = b,a\n",
    "    if a%b ==0:\n",
    "        return b\n",
    "    for i in range(1,b//2,-1):\n",
    "        if a%b-i==0 and b%b-i==0:\n",
    "            return b-i\n",
    "    return 1\n",
    "    \n",
    "print(GCD(10,5))\n"
   ]
  },
  {
   "cell_type": "code",
   "execution_count": null,
   "metadata": {},
   "outputs": [],
   "source": []
  }
 ],
 "metadata": {
  "kernelspec": {
   "display_name": "Python 3",
   "language": "python",
   "name": "python3"
  },
  "language_info": {
   "codemirror_mode": {
    "name": "ipython",
    "version": 3
   },
   "file_extension": ".py",
   "mimetype": "text/x-python",
   "name": "python",
   "nbconvert_exporter": "python",
   "pygments_lexer": "ipython3",
   "version": "3.8.8"
  },
  "toc": {
   "base_numbering": 1,
   "nav_menu": {},
   "number_sections": true,
   "sideBar": true,
   "skip_h1_title": false,
   "title_cell": "Table of Contents",
   "title_sidebar": "Contents",
   "toc_cell": false,
   "toc_position": {},
   "toc_section_display": true,
   "toc_window_display": false
  }
 },
 "nbformat": 4,
 "nbformat_minor": 4
}
