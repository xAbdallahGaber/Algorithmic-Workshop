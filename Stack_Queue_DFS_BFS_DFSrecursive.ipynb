{
 "cells": [
  {
   "cell_type": "markdown",
   "metadata": {},
   "source": [
    "*Author: Abdallah Gaber*"
   ]
  },
  {
   "cell_type": "code",
   "execution_count": 66,
   "metadata": {},
   "outputs": [],
   "source": [
    "class Stack: \n",
    "    def __init__(self):\n",
    "        self.elements = []\n",
    "        self.topIndex = -1\n",
    "    '''def __init__(self,element):\n",
    "        self.elements = [element]\n",
    "        self.topIndex = 0'''\n",
    "    def IsEmpty(self):\n",
    "        return self.topIndex == -1\n",
    "    def Push(self,*args):\n",
    "        for x in args:\n",
    "            self.elements.append(x)\n",
    "            self.topIndex += 1\n",
    "    def Pop(self):\n",
    "        if self.IsEmpty():\n",
    "            print(\"Cannot POP. Stack is empty\")\n",
    "            return\n",
    "        self.topIndex -= 1\n",
    "        return self.elements[self.topIndex+1]\n",
    "    def OnTop(self):\n",
    "        if self.IsEmpty():\n",
    "            print(\"Stack is empty\")\n",
    "            return\n",
    "        return self.elements[self.topIndex]"
   ]
  },
  {
   "cell_type": "code",
   "execution_count": null,
   "metadata": {},
   "outputs": [],
   "source": [
    "myStack = Stack()\n",
    "\n",
    "print('IsEmpty',myStack.IsEmpty())\n",
    "\n",
    "myStack.Push('a')\n",
    "myStack.Push('b','c','d')\n",
    "\n",
    "print('IsEmpty',myStack.IsEmpty())\n",
    "print('On Top:',myStack.OnTop())\n",
    "\n",
    "print(myStack.Pop())\n",
    "print(myStack.Pop())\n",
    "print(myStack.Pop())\n",
    "print(myStack.Pop())\n"
   ]
  },
  {
   "cell_type": "code",
   "execution_count": 41,
   "metadata": {},
   "outputs": [],
   "source": [
    "class Queue: \n",
    "    def __init__(self):\n",
    "        self.elements = []\n",
    "        self.front = 0\n",
    "        self.rear = 0\n",
    "    def Enqueue(self,*args):\n",
    "        for x in args:\n",
    "            self.elements.append(x)\n",
    "            self.rear += 1\n",
    "    def Dequeue(self):\n",
    "        if self.IsEmpty():\n",
    "            print(\"Cannot POP. Queue is empty\")\n",
    "            return\n",
    "        self.front += 1\n",
    "        return self.elements[self.front-1]\n",
    "    def IsEmpty(self):\n",
    "        return self.front == self.rear\n",
    "    def First(self):\n",
    "        if self.IsEmpty():\n",
    "            print(\"Queue is empty\")\n",
    "            return\n",
    "        return self.elements[self.front]"
   ]
  },
  {
   "cell_type": "code",
   "execution_count": 44,
   "metadata": {},
   "outputs": [
    {
     "name": "stdout",
     "output_type": "stream",
     "text": [
      "IsEmpty True\n",
      "First  a\n",
      "First  a\n",
      "['a', 'b', 'c', 'd'] 0 4\n",
      "IsEmpty False\n",
      "a\n",
      "['a', 'b', 'c', 'd'] 1 4\n",
      "b\n"
     ]
    }
   ],
   "source": [
    "myQueue = Queue()\n",
    "\n",
    "print('IsEmpty',myQueue.IsEmpty())\n",
    "\n",
    "myQueue.Enqueue('a')\n",
    "print('First ',myQueue.First())\n",
    "myQueue.Enqueue('b','c','d')\n",
    "print('First ',myQueue.First())\n",
    "print(myQueue.elements , myQueue.front,myQueue.rear)\n",
    "\n",
    "\n",
    "print('IsEmpty',myQueue.IsEmpty())\n",
    "\n",
    "print(myQueue.Dequeue())\n",
    "print(myQueue.elements , myQueue.front,myQueue.rear)\n",
    "print(myQueue.Dequeue())"
   ]
  },
  {
   "cell_type": "code",
   "execution_count": 4,
   "metadata": {},
   "outputs": [],
   "source": [
    "myG={\"a\":[\"b\",\"c\",\"e\"],\"b\":[\"a\",\"d\"],\"c\":[\"a\",\"d\",\"e\",\"f\"],\"d\":[\"b\",\"c\",\"e\"],\"e\":[\"a\",\"d\",\"c\"],\"f\":[\"c\"]}"
   ]
  },
  {
   "cell_type": "code",
   "execution_count": 5,
   "metadata": {},
   "outputs": [
    {
     "name": "stdout",
     "output_type": "stream",
     "text": [
      "['a', 'b', 'd', 'c', 'e', 'f']\n"
     ]
    }
   ],
   "source": [
    "def DFS(G = myG,start = 'a'):\n",
    "    \n",
    "    visited = []\n",
    "    \n",
    "    myStack = Stack()\n",
    "    myStack.Push(start)\n",
    "    visited.append(start)\n",
    "    \n",
    "    \n",
    "    while(not myStack.IsEmpty()):\n",
    "        flag = False\n",
    "        for element in G.get(myStack.OnTop()):\n",
    "            if element in visited:\n",
    "                continue\n",
    "            else:\n",
    "                myStack.Push(element)\n",
    "                visited.append(element)\n",
    "                flag = True\n",
    "                break\n",
    "        if flag == False:\n",
    "            myStack.Pop()\n",
    "        \n",
    "    print(visited)\n",
    "        \n",
    "DFS()"
   ]
  },
  {
   "cell_type": "code",
   "execution_count": 52,
   "metadata": {},
   "outputs": [
    {
     "name": "stdout",
     "output_type": "stream",
     "text": [
      "['b', 'a', 'd', 'c', 'e', 'f']\n"
     ]
    }
   ],
   "source": [
    "def BFS(G = myG,start = 'a'):\n",
    "    \n",
    "    visited = []\n",
    "    \n",
    "    myQueue = Queue()\n",
    "    myQueue.Enqueue(start)\n",
    "    visited.append(start)\n",
    "    \n",
    "    \n",
    "    while(not myQueue.IsEmpty()):\n",
    "        #print(myQueue.elements[myQueue.front:myQueue.rear])\n",
    "        flag = False\n",
    "        for element in G.get(myQueue.First()):\n",
    "            if element in visited:\n",
    "                continue\n",
    "            else:\n",
    "                myQueue.Enqueue(element)\n",
    "                visited.append(element)\n",
    "                flag = True\n",
    "        if flag == False:\n",
    "            myQueue.Dequeue()\n",
    "        \n",
    "    print(visited)\n",
    "        \n",
    "BFS(myG,start = 'b')"
   ]
  },
  {
   "cell_type": "code",
   "execution_count": 86,
   "metadata": {},
   "outputs": [
    {
     "name": "stdout",
     "output_type": "stream",
     "text": [
      "['a', 'b', 'd', 'c', 'e', 'f']\n"
     ]
    }
   ],
   "source": [
    "def DFSrecursive(G = myG, start = 'a',visited = [],myStack = Stack()):\n",
    "    \n",
    "    if len(visited) ==0:\n",
    "        visited.append(start)\n",
    "        myStack.Push(start)\n",
    "    \n",
    "    if myStack.IsEmpty():\n",
    "        print (visited)\n",
    "        return\n",
    "    \n",
    "    flag = False\n",
    "    for element in G.get(myStack.OnTop()):\n",
    "        if element in visited:\n",
    "            continue\n",
    "        else:\n",
    "            myStack.Push(element)\n",
    "            visited.append(element)\n",
    "            flag = True\n",
    "            break\n",
    "    if flag == False:\n",
    "        myStack.Pop()\n",
    "        \n",
    "    DFSrecursive(G = myG ,visited =  visited , myStack= myStack )\n",
    "        \n",
    "DFSrecursive(start = 'a')"
   ]
  }
 ],
 "metadata": {
  "kernelspec": {
   "display_name": "Python 3",
   "language": "python",
   "name": "python3"
  },
  "language_info": {
   "codemirror_mode": {
    "name": "ipython",
    "version": 3
   },
   "file_extension": ".py",
   "mimetype": "text/x-python",
   "name": "python",
   "nbconvert_exporter": "python",
   "pygments_lexer": "ipython3",
   "version": "3.8.8"
  }
 },
 "nbformat": 4,
 "nbformat_minor": 4
}
